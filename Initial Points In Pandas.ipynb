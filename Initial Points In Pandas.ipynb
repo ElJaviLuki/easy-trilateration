{
 "cells": [
  {
   "cell_type": "markdown",
   "metadata": {},
   "source": [
    "# Test Data Generation\n",
    "Script is to provide some test data for the trilateration algorithm.\n",
    "\n",
    "The first section generates a random grid of shots, assigns some FBP value with some error. "
   ]
  },
  {
   "cell_type": "code",
   "execution_count": 1,
   "metadata": {},
   "outputs": [
    {
     "data": {
      "text/html": [
       "<div>\n",
       "<style scoped>\n",
       "    .dataframe tbody tr th:only-of-type {\n",
       "        vertical-align: middle;\n",
       "    }\n",
       "\n",
       "    .dataframe tbody tr th {\n",
       "        vertical-align: top;\n",
       "    }\n",
       "\n",
       "    .dataframe thead th {\n",
       "        text-align: right;\n",
       "    }\n",
       "</style>\n",
       "<table border=\"1\" class=\"dataframe\">\n",
       "  <thead>\n",
       "    <tr style=\"text-align: right;\">\n",
       "      <th></th>\n",
       "      <th>X</th>\n",
       "      <th>Y</th>\n",
       "      <th>Z</th>\n",
       "      <th>E</th>\n",
       "      <th>fbp</th>\n",
       "    </tr>\n",
       "  </thead>\n",
       "  <tbody>\n",
       "    <tr>\n",
       "      <th>0</th>\n",
       "      <td>2696</td>\n",
       "      <td>4883</td>\n",
       "      <td>-7</td>\n",
       "      <td>-5</td>\n",
       "      <td>1.560689</td>\n",
       "    </tr>\n",
       "    <tr>\n",
       "      <th>1</th>\n",
       "      <td>4792</td>\n",
       "      <td>1539</td>\n",
       "      <td>-6</td>\n",
       "      <td>1</td>\n",
       "      <td>1.619851</td>\n",
       "    </tr>\n",
       "    <tr>\n",
       "      <th>2</th>\n",
       "      <td>680</td>\n",
       "      <td>325</td>\n",
       "      <td>-6</td>\n",
       "      <td>-10</td>\n",
       "      <td>1.854151</td>\n",
       "    </tr>\n",
       "    <tr>\n",
       "      <th>3</th>\n",
       "      <td>4062</td>\n",
       "      <td>4868</td>\n",
       "      <td>-7</td>\n",
       "      <td>6</td>\n",
       "      <td>1.845746</td>\n",
       "    </tr>\n",
       "    <tr>\n",
       "      <th>4</th>\n",
       "      <td>1593</td>\n",
       "      <td>930</td>\n",
       "      <td>-6</td>\n",
       "      <td>10</td>\n",
       "      <td>1.181615</td>\n",
       "    </tr>\n",
       "  </tbody>\n",
       "</table>\n",
       "</div>"
      ],
      "text/plain": [
       "      X     Y  Z   E       fbp\n",
       "0  2696  4883 -7  -5  1.560689\n",
       "1  4792  1539 -6   1  1.619851\n",
       "2   680   325 -6 -10  1.854151\n",
       "3  4062  4868 -7   6  1.845746\n",
       "4  1593   930 -6  10  1.181615"
      ]
     },
     "execution_count": 1,
     "metadata": {},
     "output_type": "execute_result"
    }
   ],
   "source": [
    "import pandas as pd\n",
    "import numpy as np\n",
    "import matplotlib as plt\n",
    "\n",
    "#create sample points\n",
    "dataX = pd.DataFrame(np.random.randint(0,5000,size=(1000,1)), columns=list('X'))\n",
    "dataY = pd.DataFrame(np.random.randint(0,5000,size=(1000,1)), columns=list('Y'))\n",
    "dataZ = pd.DataFrame(np.random.randint(-7,-5,size=(1000,1)), columns=list('Z'))\n",
    "error = pd.DataFrame(np.random.randint(-15,15,size=(1000,1)), columns=list('E'))\n",
    "data = pd.concat([dataX, dataY, dataZ, error], axis=1, sort=False)\n",
    "\n",
    "#intial values\n",
    "Xi=2500\n",
    "Yi=2500\n",
    "Zi=-100\n",
    "Si=1535 \n",
    "\n",
    "\n",
    "#distances to intial point with error\n",
    "data['fbp'] = ((((data['X']-Xi)**2 + (data['Y']-Yi)**2 + (data['Z']-Zi)**2)**0.5)+(data['E']))/(Si + data['E'])\n",
    "\n",
    "data.head()\n"
   ]
  },
  {
   "cell_type": "markdown",
   "metadata": {},
   "source": [
    "The next section calculates the final actual point where the FBP falls by scaling."
   ]
  },
  {
   "cell_type": "code",
   "execution_count": 2,
   "metadata": {},
   "outputs": [
    {
     "data": {
      "text/html": [
       "<div>\n",
       "<style scoped>\n",
       "    .dataframe tbody tr th:only-of-type {\n",
       "        vertical-align: middle;\n",
       "    }\n",
       "\n",
       "    .dataframe tbody tr th {\n",
       "        vertical-align: top;\n",
       "    }\n",
       "\n",
       "    .dataframe thead th {\n",
       "        text-align: right;\n",
       "    }\n",
       "</style>\n",
       "<table border=\"1\" class=\"dataframe\">\n",
       "  <thead>\n",
       "    <tr style=\"text-align: right;\">\n",
       "      <th></th>\n",
       "      <th>X</th>\n",
       "      <th>Y</th>\n",
       "      <th>Z</th>\n",
       "      <th>E</th>\n",
       "      <th>fbp</th>\n",
       "      <th>observed_dist</th>\n",
       "      <th>calc_ranges</th>\n",
       "      <th>scale</th>\n",
       "      <th>diff_X</th>\n",
       "      <th>diff_Y</th>\n",
       "      <th>diff_Z</th>\n",
       "      <th>diff_X_scaled</th>\n",
       "      <th>diff_Y_scaled</th>\n",
       "      <th>diff_Z_scaled</th>\n",
       "      <th>final_X</th>\n",
       "      <th>final_Y</th>\n",
       "      <th>final_Z</th>\n",
       "      <th>final_diff</th>\n",
       "    </tr>\n",
       "  </thead>\n",
       "  <tbody>\n",
       "    <tr>\n",
       "      <th>0</th>\n",
       "      <td>2696</td>\n",
       "      <td>4883</td>\n",
       "      <td>-7</td>\n",
       "      <td>-5</td>\n",
       "      <td>1.560689</td>\n",
       "      <td>2395.658227</td>\n",
       "      <td>2392.854780</td>\n",
       "      <td>1.001172</td>\n",
       "      <td>196</td>\n",
       "      <td>2383</td>\n",
       "      <td>93</td>\n",
       "      <td>196.229632</td>\n",
       "      <td>2385.791901</td>\n",
       "      <td>93.108958</td>\n",
       "      <td>2499.770368</td>\n",
       "      <td>2497.208099</td>\n",
       "      <td>-100.108958</td>\n",
       "      <td>2.803447</td>\n",
       "    </tr>\n",
       "    <tr>\n",
       "      <th>1</th>\n",
       "      <td>4792</td>\n",
       "      <td>1539</td>\n",
       "      <td>-6</td>\n",
       "      <td>1</td>\n",
       "      <td>1.619851</td>\n",
       "      <td>2486.471020</td>\n",
       "      <td>2487.090871</td>\n",
       "      <td>0.999751</td>\n",
       "      <td>2292</td>\n",
       "      <td>-961</td>\n",
       "      <td>94</td>\n",
       "      <td>2291.428771</td>\n",
       "      <td>-960.760493</td>\n",
       "      <td>93.976573</td>\n",
       "      <td>2500.571229</td>\n",
       "      <td>2499.760493</td>\n",
       "      <td>-99.976573</td>\n",
       "      <td>0.619851</td>\n",
       "    </tr>\n",
       "    <tr>\n",
       "      <th>2</th>\n",
       "      <td>680</td>\n",
       "      <td>325</td>\n",
       "      <td>-6</td>\n",
       "      <td>-10</td>\n",
       "      <td>1.854151</td>\n",
       "      <td>2846.121640</td>\n",
       "      <td>2837.580131</td>\n",
       "      <td>1.003010</td>\n",
       "      <td>-1820</td>\n",
       "      <td>-2175</td>\n",
       "      <td>94</td>\n",
       "      <td>-1825.478452</td>\n",
       "      <td>-2181.547051</td>\n",
       "      <td>94.282953</td>\n",
       "      <td>2505.478452</td>\n",
       "      <td>2506.547051</td>\n",
       "      <td>-100.282953</td>\n",
       "      <td>8.541509</td>\n",
       "    </tr>\n",
       "    <tr>\n",
       "      <th>3</th>\n",
       "      <td>4062</td>\n",
       "      <td>4868</td>\n",
       "      <td>-7</td>\n",
       "      <td>6</td>\n",
       "      <td>1.845746</td>\n",
       "      <td>2833.220258</td>\n",
       "      <td>2838.294735</td>\n",
       "      <td>0.998212</td>\n",
       "      <td>1562</td>\n",
       "      <td>2368</td>\n",
       "      <td>93</td>\n",
       "      <td>1559.207361</td>\n",
       "      <td>2363.766345</td>\n",
       "      <td>92.833729</td>\n",
       "      <td>2502.792639</td>\n",
       "      <td>2504.233655</td>\n",
       "      <td>-99.833729</td>\n",
       "      <td>5.074477</td>\n",
       "    </tr>\n",
       "    <tr>\n",
       "      <th>4</th>\n",
       "      <td>1593</td>\n",
       "      <td>930</td>\n",
       "      <td>-6</td>\n",
       "      <td>10</td>\n",
       "      <td>1.181615</td>\n",
       "      <td>1813.778795</td>\n",
       "      <td>1815.594944</td>\n",
       "      <td>0.999000</td>\n",
       "      <td>-907</td>\n",
       "      <td>-1570</td>\n",
       "      <td>94</td>\n",
       "      <td>-906.092723</td>\n",
       "      <td>-1568.429521</td>\n",
       "      <td>93.905971</td>\n",
       "      <td>2499.092723</td>\n",
       "      <td>2498.429521</td>\n",
       "      <td>-99.905971</td>\n",
       "      <td>1.816149</td>\n",
       "    </tr>\n",
       "  </tbody>\n",
       "</table>\n",
       "</div>"
      ],
      "text/plain": [
       "      X     Y  Z   E       fbp  observed_dist  calc_ranges     scale  diff_X  \\\n",
       "0  2696  4883 -7  -5  1.560689    2395.658227  2392.854780  1.001172     196   \n",
       "1  4792  1539 -6   1  1.619851    2486.471020  2487.090871  0.999751    2292   \n",
       "2   680   325 -6 -10  1.854151    2846.121640  2837.580131  1.003010   -1820   \n",
       "3  4062  4868 -7   6  1.845746    2833.220258  2838.294735  0.998212    1562   \n",
       "4  1593   930 -6  10  1.181615    1813.778795  1815.594944  0.999000    -907   \n",
       "\n",
       "   diff_Y  diff_Z  diff_X_scaled  diff_Y_scaled  diff_Z_scaled      final_X  \\\n",
       "0    2383      93     196.229632    2385.791901      93.108958  2499.770368   \n",
       "1    -961      94    2291.428771    -960.760493      93.976573  2500.571229   \n",
       "2   -2175      94   -1825.478452   -2181.547051      94.282953  2505.478452   \n",
       "3    2368      93    1559.207361    2363.766345      92.833729  2502.792639   \n",
       "4   -1570      94    -906.092723   -1568.429521      93.905971  2499.092723   \n",
       "\n",
       "       final_Y     final_Z  final_diff  \n",
       "0  2497.208099 -100.108958    2.803447  \n",
       "1  2499.760493  -99.976573    0.619851  \n",
       "2  2506.547051 -100.282953    8.541509  \n",
       "3  2504.233655  -99.833729    5.074477  \n",
       "4  2498.429521  -99.905971    1.816149  "
      ]
     },
     "execution_count": 2,
     "metadata": {},
     "output_type": "execute_result"
    }
   ],
   "source": [
    "#calculate the observed distance\n",
    "data['observed_dist']=(data['fbp']*Si)\n",
    "\n",
    "#calculated ranges\n",
    "data['calc_ranges']=((data['X']-Xi)**2 + (data['Y']-Yi)**2 + (data['Z']-Zi)**2)**0.5\n",
    "\n",
    "#scaling\n",
    "data['scale']=data['observed_dist']/data['calc_ranges']\n",
    "\n",
    "#diffs\n",
    "data['diff_X']= data['X']-Xi\n",
    "data['diff_Y']= data['Y']-Yi\n",
    "data['diff_Z']= data['Z']-Zi\n",
    "\n",
    "#scaling\n",
    "data['diff_X_scaled']= (data['X']-Xi)*data['scale']\n",
    "data['diff_Y_scaled']= (data['Y']-Yi)*data['scale']\n",
    "data['diff_Z_scaled']= (data['Z']-Zi)*data['scale']\n",
    "\n",
    "#Final\n",
    "data['final_X']= -data['diff_X_scaled']+data['X']\n",
    "data['final_Y']= -data['diff_Y_scaled']+data['Y']\n",
    "data['final_Z']= -data['diff_Z_scaled']+data['Z']\n",
    "\n",
    "#Final_Diff\n",
    "data['final_diff']=((data['final_X']-Xi)**2 + (data['final_Y']-Yi)**2 + (data['final_Z']-Zi)**2)**0.5\n",
    "\n",
    "\n",
    "data.head()"
   ]
  },
  {
   "cell_type": "code",
   "execution_count": 3,
   "metadata": {},
   "outputs": [
    {
     "data": {
      "text/html": [
       "<div>\n",
       "<style scoped>\n",
       "    .dataframe tbody tr th:only-of-type {\n",
       "        vertical-align: middle;\n",
       "    }\n",
       "\n",
       "    .dataframe tbody tr th {\n",
       "        vertical-align: top;\n",
       "    }\n",
       "\n",
       "    .dataframe thead th {\n",
       "        text-align: right;\n",
       "    }\n",
       "</style>\n",
       "<table border=\"1\" class=\"dataframe\">\n",
       "  <thead>\n",
       "    <tr style=\"text-align: right;\">\n",
       "      <th></th>\n",
       "      <th>X</th>\n",
       "      <th>Y</th>\n",
       "      <th>Z</th>\n",
       "      <th>E</th>\n",
       "      <th>fbp</th>\n",
       "      <th>observed_dist</th>\n",
       "      <th>calc_ranges</th>\n",
       "      <th>scale</th>\n",
       "      <th>diff_X</th>\n",
       "      <th>diff_Y</th>\n",
       "      <th>diff_Z</th>\n",
       "      <th>diff_X_scaled</th>\n",
       "      <th>diff_Y_scaled</th>\n",
       "      <th>diff_Z_scaled</th>\n",
       "      <th>final_X</th>\n",
       "      <th>final_Y</th>\n",
       "      <th>final_Z</th>\n",
       "      <th>final_diff</th>\n",
       "    </tr>\n",
       "  </thead>\n",
       "  <tbody>\n",
       "    <tr>\n",
       "      <th>count</th>\n",
       "      <td>1000.000000</td>\n",
       "      <td>1000.000000</td>\n",
       "      <td>1000.000000</td>\n",
       "      <td>1000.000000</td>\n",
       "      <td>1000.000000</td>\n",
       "      <td>1000.000000</td>\n",
       "      <td>1000.000000</td>\n",
       "      <td>1000.000000</td>\n",
       "      <td>1000.000000</td>\n",
       "      <td>1000.000000</td>\n",
       "      <td>1000.000000</td>\n",
       "      <td>1000.000000</td>\n",
       "      <td>1000.000000</td>\n",
       "      <td>1000.000000</td>\n",
       "      <td>1000.000000</td>\n",
       "      <td>1000.000000</td>\n",
       "      <td>1000.000000</td>\n",
       "      <td>1000.000000</td>\n",
       "    </tr>\n",
       "    <tr>\n",
       "      <th>mean</th>\n",
       "      <td>2468.436000</td>\n",
       "      <td>2594.252000</td>\n",
       "      <td>-6.496000</td>\n",
       "      <td>-0.374000</td>\n",
       "      <td>1.249917</td>\n",
       "      <td>1918.622520</td>\n",
       "      <td>1918.375386</td>\n",
       "      <td>1.000151</td>\n",
       "      <td>-31.564000</td>\n",
       "      <td>94.252000</td>\n",
       "      <td>93.504000</td>\n",
       "      <td>-31.641609</td>\n",
       "      <td>94.264454</td>\n",
       "      <td>93.517996</td>\n",
       "      <td>2500.077609</td>\n",
       "      <td>2499.987546</td>\n",
       "      <td>-100.013996</td>\n",
       "      <td>3.467854</td>\n",
       "    </tr>\n",
       "    <tr>\n",
       "      <th>std</th>\n",
       "      <td>1438.268636</td>\n",
       "      <td>1453.758655</td>\n",
       "      <td>0.500234</td>\n",
       "      <td>8.827687</td>\n",
       "      <td>0.468504</td>\n",
       "      <td>719.154118</td>\n",
       "      <td>718.905098</td>\n",
       "      <td>0.003883</td>\n",
       "      <td>1438.268636</td>\n",
       "      <td>1453.758655</td>\n",
       "      <td>0.500234</td>\n",
       "      <td>1438.485722</td>\n",
       "      <td>1453.990039</td>\n",
       "      <td>0.602992</td>\n",
       "      <td>3.276767</td>\n",
       "      <td>3.366549</td>\n",
       "      <td>0.362718</td>\n",
       "      <td>3.189162</td>\n",
       "    </tr>\n",
       "    <tr>\n",
       "      <th>min</th>\n",
       "      <td>6.000000</td>\n",
       "      <td>21.000000</td>\n",
       "      <td>-7.000000</td>\n",
       "      <td>-15.000000</td>\n",
       "      <td>0.105686</td>\n",
       "      <td>162.228234</td>\n",
       "      <td>162.228234</td>\n",
       "      <td>0.966496</td>\n",
       "      <td>-2494.000000</td>\n",
       "      <td>-2479.000000</td>\n",
       "      <td>93.000000</td>\n",
       "      <td>-2497.816663</td>\n",
       "      <td>-2474.736444</td>\n",
       "      <td>90.850577</td>\n",
       "      <td>2487.946056</td>\n",
       "      <td>2488.239706</td>\n",
       "      <td>-103.312992</td>\n",
       "      <td>0.000000</td>\n",
       "    </tr>\n",
       "    <tr>\n",
       "      <th>25%</th>\n",
       "      <td>1194.750000</td>\n",
       "      <td>1317.000000</td>\n",
       "      <td>-7.000000</td>\n",
       "      <td>-8.000000</td>\n",
       "      <td>0.911481</td>\n",
       "      <td>1399.123800</td>\n",
       "      <td>1400.090278</td>\n",
       "      <td>0.998744</td>\n",
       "      <td>-1305.250000</td>\n",
       "      <td>-1183.000000</td>\n",
       "      <td>93.000000</td>\n",
       "      <td>-1306.111616</td>\n",
       "      <td>-1180.754646</td>\n",
       "      <td>93.000000</td>\n",
       "      <td>2498.668659</td>\n",
       "      <td>2498.554852</td>\n",
       "      <td>-100.140507</td>\n",
       "      <td>0.875456</td>\n",
       "    </tr>\n",
       "    <tr>\n",
       "      <th>50%</th>\n",
       "      <td>2451.000000</td>\n",
       "      <td>2632.000000</td>\n",
       "      <td>-6.000000</td>\n",
       "      <td>0.000000</td>\n",
       "      <td>1.306018</td>\n",
       "      <td>2004.737647</td>\n",
       "      <td>2005.491265</td>\n",
       "      <td>1.000000</td>\n",
       "      <td>-49.000000</td>\n",
       "      <td>132.000000</td>\n",
       "      <td>94.000000</td>\n",
       "      <td>-48.762748</td>\n",
       "      <td>131.712823</td>\n",
       "      <td>93.514670</td>\n",
       "      <td>2500.000000</td>\n",
       "      <td>2500.000000</td>\n",
       "      <td>-100.000000</td>\n",
       "      <td>2.605377</td>\n",
       "    </tr>\n",
       "    <tr>\n",
       "      <th>75%</th>\n",
       "      <td>3711.750000</td>\n",
       "      <td>3852.750000</td>\n",
       "      <td>-6.000000</td>\n",
       "      <td>8.000000</td>\n",
       "      <td>1.609006</td>\n",
       "      <td>2469.824202</td>\n",
       "      <td>2469.198453</td>\n",
       "      <td>1.001511</td>\n",
       "      <td>1211.750000</td>\n",
       "      <td>1352.750000</td>\n",
       "      <td>94.000000</td>\n",
       "      <td>1211.621690</td>\n",
       "      <td>1353.932838</td>\n",
       "      <td>94.011218</td>\n",
       "      <td>2501.438988</td>\n",
       "      <td>2501.437384</td>\n",
       "      <td>-99.882590</td>\n",
       "      <td>5.236311</td>\n",
       "    </tr>\n",
       "    <tr>\n",
       "      <th>max</th>\n",
       "      <td>4999.000000</td>\n",
       "      <td>4993.000000</td>\n",
       "      <td>-6.000000</td>\n",
       "      <td>14.000000</td>\n",
       "      <td>2.285576</td>\n",
       "      <td>3508.359638</td>\n",
       "      <td>3494.475354</td>\n",
       "      <td>1.035624</td>\n",
       "      <td>2499.000000</td>\n",
       "      <td>2493.000000</td>\n",
       "      <td>94.000000</td>\n",
       "      <td>2502.637574</td>\n",
       "      <td>2504.760294</td>\n",
       "      <td>96.312992</td>\n",
       "      <td>2512.369172</td>\n",
       "      <td>2512.603291</td>\n",
       "      <td>-96.850577</td>\n",
       "      <td>17.446692</td>\n",
       "    </tr>\n",
       "  </tbody>\n",
       "</table>\n",
       "</div>"
      ],
      "text/plain": [
       "                 X            Y            Z            E          fbp  \\\n",
       "count  1000.000000  1000.000000  1000.000000  1000.000000  1000.000000   \n",
       "mean   2468.436000  2594.252000    -6.496000    -0.374000     1.249917   \n",
       "std    1438.268636  1453.758655     0.500234     8.827687     0.468504   \n",
       "min       6.000000    21.000000    -7.000000   -15.000000     0.105686   \n",
       "25%    1194.750000  1317.000000    -7.000000    -8.000000     0.911481   \n",
       "50%    2451.000000  2632.000000    -6.000000     0.000000     1.306018   \n",
       "75%    3711.750000  3852.750000    -6.000000     8.000000     1.609006   \n",
       "max    4999.000000  4993.000000    -6.000000    14.000000     2.285576   \n",
       "\n",
       "       observed_dist  calc_ranges        scale       diff_X       diff_Y  \\\n",
       "count    1000.000000  1000.000000  1000.000000  1000.000000  1000.000000   \n",
       "mean     1918.622520  1918.375386     1.000151   -31.564000    94.252000   \n",
       "std       719.154118   718.905098     0.003883  1438.268636  1453.758655   \n",
       "min       162.228234   162.228234     0.966496 -2494.000000 -2479.000000   \n",
       "25%      1399.123800  1400.090278     0.998744 -1305.250000 -1183.000000   \n",
       "50%      2004.737647  2005.491265     1.000000   -49.000000   132.000000   \n",
       "75%      2469.824202  2469.198453     1.001511  1211.750000  1352.750000   \n",
       "max      3508.359638  3494.475354     1.035624  2499.000000  2493.000000   \n",
       "\n",
       "            diff_Z  diff_X_scaled  diff_Y_scaled  diff_Z_scaled      final_X  \\\n",
       "count  1000.000000    1000.000000    1000.000000    1000.000000  1000.000000   \n",
       "mean     93.504000     -31.641609      94.264454      93.517996  2500.077609   \n",
       "std       0.500234    1438.485722    1453.990039       0.602992     3.276767   \n",
       "min      93.000000   -2497.816663   -2474.736444      90.850577  2487.946056   \n",
       "25%      93.000000   -1306.111616   -1180.754646      93.000000  2498.668659   \n",
       "50%      94.000000     -48.762748     131.712823      93.514670  2500.000000   \n",
       "75%      94.000000    1211.621690    1353.932838      94.011218  2501.438988   \n",
       "max      94.000000    2502.637574    2504.760294      96.312992  2512.369172   \n",
       "\n",
       "           final_Y      final_Z   final_diff  \n",
       "count  1000.000000  1000.000000  1000.000000  \n",
       "mean   2499.987546  -100.013996     3.467854  \n",
       "std       3.366549     0.362718     3.189162  \n",
       "min    2488.239706  -103.312992     0.000000  \n",
       "25%    2498.554852  -100.140507     0.875456  \n",
       "50%    2500.000000  -100.000000     2.605377  \n",
       "75%    2501.437384   -99.882590     5.236311  \n",
       "max    2512.603291   -96.850577    17.446692  "
      ]
     },
     "execution_count": 3,
     "metadata": {},
     "output_type": "execute_result"
    }
   ],
   "source": [
    "data.describe()"
   ]
  },
  {
   "cell_type": "markdown",
   "metadata": {},
   "source": [
    "As can be seen the final offset from the observed FBP to the calulated point is normally distributed. This provides some opportunities for filtering and optimising the least squares attempt. "
   ]
  },
  {
   "cell_type": "code",
   "execution_count": 4,
   "metadata": {},
   "outputs": [
    {
     "data": {
      "text/plain": [
       "<matplotlib.axes._subplots.AxesSubplot at 0x1efd04614e0>"
      ]
     },
     "execution_count": 4,
     "metadata": {},
     "output_type": "execute_result"
    }
   ],
   "source": [
    "data['final_diff'].hist()"
   ]
  },
  {
   "cell_type": "markdown",
   "metadata": {},
   "source": [
    "There are also some possibilities of filtering on distance from the point based on the calculated ranges. Closer ranges should be given a higher weighting. "
   ]
  },
  {
   "cell_type": "code",
   "execution_count": 5,
   "metadata": {},
   "outputs": [
    {
     "data": {
      "text/plain": [
       "<matplotlib.axes._subplots.AxesSubplot at 0x1efd0915a58>"
      ]
     },
     "execution_count": 5,
     "metadata": {},
     "output_type": "execute_result"
    },
    {
     "data": {
      "image/png": "[encoded data removed]",
      "text/plain": [
       "<Figure size 432x288 with 1 Axes>"
      ]
     },
     "metadata": {},
     "output_type": "display_data"
    }
   ],
   "source": [
    "data['calc_ranges'].hist()"
   ]
  },
  {
   "cell_type": "code",
   "execution_count": 6,
   "metadata": {},
   "outputs": [
    {
     "data": {
      "text/plain": [
       "<matplotlib.axes._subplots.AxesSubplot at 0x1efd09990f0>"
      ]
     },
     "execution_count": 6,
     "metadata": {},
     "output_type": "execute_result"
    },
    {
     "data": {
      "image/png": "[encoded data removed]",
      "text/plain": [
       "<Figure size 432x288 with 1 Axes>"
      ]
     },
     "metadata": {},
     "output_type": "display_data"
    }
   ],
   "source": [
    "data.plot.scatter('X', 'Y')"
   ]
  },
  {
   "cell_type": "code",
   "execution_count": 7,
   "metadata": {},
   "outputs": [
    {
     "data": {
      "text/plain": [
       "<matplotlib.axes._subplots.AxesSubplot at 0x1efd0a10c50>"
      ]
     },
     "execution_count": 7,
     "metadata": {},
     "output_type": "execute_result"
    },
    {
     "data": {
      "image/png": "[encoded data removed]",
      "text/plain": [
       "<Figure size 432x288 with 1 Axes>"
      ]
     },
     "metadata": {},
     "output_type": "display_data"
    }
   ],
   "source": [
    "data.plot.scatter('final_X', 'final_Y')"
   ]
  },
  {
   "cell_type": "markdown",
   "metadata": {},
   "source": [
    "Showing the effects of filtering on the data."
   ]
  },
  {
   "cell_type": "code",
   "execution_count": 8,
   "metadata": {},
   "outputs": [],
   "source": [
    "filter = data[(data.final_diff < 10) & (data.calc_ranges < 1500)]"
   ]
  },
  {
   "cell_type": "code",
   "execution_count": 9,
   "metadata": {},
   "outputs": [
    {
     "data": {
      "text/plain": [
       "<matplotlib.axes._subplots.AxesSubplot at 0x1efd0a52c88>"
      ]
     },
     "execution_count": 9,
     "metadata": {},
     "output_type": "execute_result"
    },
    {
     "data": {
      "image/png": "[encoded data removed]",
      "text/plain": [
       "<Figure size 432x288 with 1 Axes>"
      ]
     },
     "metadata": {},
     "output_type": "display_data"
    }
   ],
   "source": [
    "filter['final_diff'].hist()"
   ]
  },
  {
   "cell_type": "code",
   "execution_count": 10,
   "metadata": {},
   "outputs": [
    {
     "data": {
      "text/plain": [
       "<matplotlib.axes._subplots.AxesSubplot at 0x1efd0aa43c8>"
      ]
     },
     "execution_count": 10,
     "metadata": {},
     "output_type": "execute_result"
    },
    {
     "data": {
      "image/png": "[encoded data removed]",
      "text/plain": [
       "<Figure size 432x288 with 1 Axes>"
      ]
     },
     "metadata": {},
     "output_type": "display_data"
    }
   ],
   "source": [
    "filter['calc_ranges'].hist()"
   ]
  },
  {
   "cell_type": "code",
   "execution_count": 11,
   "metadata": {},
   "outputs": [
    {
     "data": {
      "text/plain": [
       "<matplotlib.axes._subplots.AxesSubplot at 0x1efd0b3bda0>"
      ]
     },
     "execution_count": 11,
     "metadata": {},
     "output_type": "execute_result"
    },
    {
     "data": {
      "image/png": "[encoded data removed]",
      "text/plain": [
       "<Figure size 432x288 with 1 Axes>"
      ]
     },
     "metadata": {},
     "output_type": "display_data"
    }
   ],
   "source": [
    "filter.plot.scatter('X', 'Y')"
   ]
  },
  {
   "cell_type": "code",
   "execution_count": 12,
   "metadata": {},
   "outputs": [
    {
     "data": {
      "text/plain": [
       "<matplotlib.axes._subplots.AxesSubplot at 0x1efd0b063c8>"
      ]
     },
     "execution_count": 12,
     "metadata": {},
     "output_type": "execute_result"
    },
    {
     "data": {
      "image/png": "[encoded data removed]",
      "text/plain": [
       "<Figure size 432x288 with 1 Axes>"
      ]
     },
     "metadata": {},
     "output_type": "display_data"
    }
   ],
   "source": [
    "filter.plot.scatter('final_X', 'final_Y')"
   ]
  },
  {
   "cell_type": "code",
   "execution_count": 58,
   "metadata": {},
   "outputs": [],
   "source": [
    "text_file = open(\"equations.py\", \"w\")\n",
    "\n",
    "\n",
    "print(\"def equations( guess ):\", file=text_file)\n",
    "print(\"\\tx, y, z, r = guess\", file=text_file)\n",
    "print(\"\\treturn (\", file=text_file)\n",
    "\n",
    "i=1\n",
    "\n",
    "while i <= len(filter.index):\n",
    "    print(\"\\t\\t(x - x\",i,\")**2 + (y - y\",i,\")**2 + (z - z\",i,\")**2 - (dist_\",i,\" - r )**2\", sep=\"\", file=text_file)\n",
    "  \n",
    "    i=i+1\n",
    "print(\"\\t)\",file=text_file)    \n",
    "    \n",
    "text_file.close()"
   ]
  },
  {
   "cell_type": "code",
   "execution_count": 60,
   "metadata": {},
   "outputs": [],
   "source": [
    "from equations import equations"
   ]
  },
  {
   "cell_type": "code",
   "execution_count": null,
   "metadata": {},
   "outputs": [],
   "source": []
  }
 ],
 "metadata": {
  "kernelspec": {
   "display_name": "Python 3",
   "language": "python",
   "name": "python3"
  },
  "language_info": {
   "codemirror_mode": {
    "name": "ipython",
    "version": 3
   },
   "file_extension": ".py",
   "mimetype": "text/x-python",
   "name": "python",
   "nbconvert_exporter": "python",
   "pygments_lexer": "ipython3",
   "version": "3.6.6"
  }
 },
 "nbformat": 4,
 "nbformat_minor": 2
}
