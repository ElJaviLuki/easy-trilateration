{
 "cells": [
  {
   "cell_type": "code",
   "execution_count": null,
   "outputs": [],
   "source": [
    "from src.utils.graph import create_circle\n",
    "from src.utils.least_squares import *\n",
    "from src.model.point import Point\n",
    "from src.model.circle import Circle\n",
    "\n",
    "circles = [Circle(Point(0, 0, ), rssiToDistance(-72.5958)),\n",
    "           Circle(Point(16.5, 0), rssiToDistance(-73.3073)),\n",
    "           Circle(Point(33, 0), rssiToDistance(-73.2301)),\n",
    "           Circle(Point(50, 0), rssiToDistance(-77.1108)),\n",
    "           Circle(Point(0, 50), rssiToDistance(-77.1108)),\n",
    "           Circle(Point(16.5, 50), rssiToDistance(-73.3082)),\n",
    "           Circle(Point(33, 50), rssiToDistance(-73.231)),\n",
    "           Circle(Point(50, 50), rssiToDistance(-77.1113)),\n",
    "           Circle(Point(0, 25), rssiToDistance(-72.5948)),\n",
    "           Circle(Point(50, 25), rssiToDistance(-72.5948))]\n",
    "\n",
    "result_circl, results = leastSquares(circles)\n",
    "\n",
    "create_circle(result_circl, target=True)\n",
    "\n",
    "draw([circles[0], circles[1], circles[2], circles[3], circles[4], circles[5], circles[6], circles[7],\n",
    "      circles[8], circles[9]])\n"
   ],
   "metadata": {
    "collapsed": false,
    "pycharm": {
     "name": "#%%\n"
    }
   }
  },
  {
   "cell_type": "code",
   "execution_count": 2,
   "metadata": {},
   "outputs": [
    {
     "data": {
      "text/plain": [
       "array([ 2.00293252e+03,  1.99308048e+03, -9.09228996e+01,  1.83285601e+00])"
      ]
     },
     "execution_count": 2,
     "metadata": {},
     "output_type": "execute_result"
    }
   ],
   "source": [
    "results.x"
   ]
  },
  {
   "cell_type": "code",
   "execution_count": 3,
   "metadata": {},
   "outputs": [],
   "source": [
    "#covar = (J^T J)^{-1}\n",
    "import numpy as np\n",
    "J = results.jac\n",
    "JT = results.jac.transpose()\n",
    "\n"
   ]
  },
  {
   "cell_type": "code",
   "execution_count": 4,
   "metadata": {},
   "outputs": [
    {
     "data": {
      "text/html": [
       "<div>\n",
       "<style scoped>\n",
       "    .dataframe tbody tr th:only-of-type {\n",
       "        vertical-align: middle;\n",
       "    }\n",
       "\n",
       "    .dataframe tbody tr th {\n",
       "        vertical-align: top;\n",
       "    }\n",
       "\n",
       "    .dataframe thead th {\n",
       "        text-align: right;\n",
       "    }\n",
       "</style>\n",
       "<table border=\"1\" class=\"dataframe\">\n",
       "  <thead>\n",
       "    <tr style=\"text-align: right;\">\n",
       "      <th></th>\n",
       "      <th>0</th>\n",
       "      <th>1</th>\n",
       "      <th>2</th>\n",
       "      <th>3</th>\n",
       "    </tr>\n",
       "  </thead>\n",
       "  <tbody>\n",
       "    <tr>\n",
       "      <th>0</th>\n",
       "      <td>4.166613e-08</td>\n",
       "      <td>-1.368951e-03</td>\n",
       "      <td>7.662466e-07</td>\n",
       "      <td>1.396179e-06</td>\n",
       "    </tr>\n",
       "    <tr>\n",
       "      <th>1</th>\n",
       "      <td>-1.368951e-03</td>\n",
       "      <td>4.166367e-08</td>\n",
       "      <td>1.160962e-06</td>\n",
       "      <td>-2.265394e-05</td>\n",
       "    </tr>\n",
       "    <tr>\n",
       "      <th>2</th>\n",
       "      <td>7.662466e-07</td>\n",
       "      <td>1.160962e-06</td>\n",
       "      <td>8.742616e-08</td>\n",
       "      <td>4.063453e-08</td>\n",
       "    </tr>\n",
       "    <tr>\n",
       "      <th>3</th>\n",
       "      <td>1.396179e-06</td>\n",
       "      <td>-2.265394e-05</td>\n",
       "      <td>4.063453e-08</td>\n",
       "      <td>1.683536e-08</td>\n",
       "    </tr>\n",
       "  </tbody>\n",
       "</table>\n",
       "</div>"
      ],
      "text/plain": [
       "              0             1             2             3\n",
       "0  4.166613e-08 -1.368951e-03  7.662466e-07  1.396179e-06\n",
       "1 -1.368951e-03  4.166367e-08  1.160962e-06 -2.265394e-05\n",
       "2  7.662466e-07  1.160962e-06  8.742616e-08  4.063453e-08\n",
       "3  1.396179e-06 -2.265394e-05  4.063453e-08  1.683536e-08"
      ]
     },
     "execution_count": 4,
     "metadata": {},
     "output_type": "execute_result"
    }
   ],
   "source": [
    "import pandas as pd\n",
    "\n",
    "\n",
    "cov_matrix = pd.DataFrame((JT.dot(J))**-1)\n",
    "cov_matrix"
   ]
  },
  {
   "cell_type": "code",
   "execution_count": 5,
   "metadata": {},
   "outputs": [
    {
     "data": {
      "text/html": [
       "<div>\n",
       "<style scoped>\n",
       "    .dataframe tbody tr th:only-of-type {\n",
       "        vertical-align: middle;\n",
       "    }\n",
       "\n",
       "    .dataframe tbody tr th {\n",
       "        vertical-align: top;\n",
       "    }\n",
       "\n",
       "    .dataframe thead th {\n",
       "        text-align: right;\n",
       "    }\n",
       "</style>\n",
       "<table border=\"1\" class=\"dataframe\">\n",
       "  <thead>\n",
       "    <tr style=\"text-align: right;\">\n",
       "      <th></th>\n",
       "      <th>0</th>\n",
       "      <th>1</th>\n",
       "    </tr>\n",
       "  </thead>\n",
       "  <tbody>\n",
       "    <tr>\n",
       "      <th>0</th>\n",
       "      <td>4.166613e-08</td>\n",
       "      <td>-1.368951e-03</td>\n",
       "    </tr>\n",
       "    <tr>\n",
       "      <th>1</th>\n",
       "      <td>-1.368951e-03</td>\n",
       "      <td>4.166367e-08</td>\n",
       "    </tr>\n",
       "  </tbody>\n",
       "</table>\n",
       "</div>"
      ],
      "text/plain": [
       "              0             1\n",
       "0  4.166613e-08 -1.368951e-03\n",
       "1 -1.368951e-03  4.166367e-08"
      ]
     },
     "execution_count": 5,
     "metadata": {},
     "output_type": "execute_result"
    }
   ],
   "source": [
    "cov_mat_xy = cov_matrix.drop([2,3], 1)\n",
    "cov_mat_xy = cov_mat_xy.drop([2,3], 0)\n",
    "cov_mat_xy\n",
    "\n",
    "#http://www.visiondummy.com/2014/04/draw-error-ellipse-representing-covariance-matrix/"
   ]
  },
  {
   "cell_type": "code",
   "execution_count": 6,
   "metadata": {},
   "outputs": [
    {
     "data": {
      "text/plain": [
       "(array([ 0.00136899, -0.00136891]), array([[ 0.70710678,  0.70710678],\n",
       "        [-0.70710678,  0.70710678]]))"
      ]
     },
     "execution_count": 6,
     "metadata": {},
     "output_type": "execute_result"
    }
   ],
   "source": [
    "from numpy import linalg as LA\n",
    "\n",
    "LA.eig(cov_mat_xy)"
   ]
  }
 ],
 "metadata": {
  "kernelspec": {
   "display_name": "Python 3",
   "language": "python",
   "name": "python3"
  },
  "language_info": {
   "codemirror_mode": {
    "name": "ipython",
    "version": 3
   },
   "file_extension": ".py",
   "mimetype": "text/x-python",
   "name": "python",
   "nbconvert_exporter": "python",
   "pygments_lexer": "ipython3",
   "version": "3.6.6"
  }
 },
 "nbformat": 4,
 "nbformat_minor": 2
}