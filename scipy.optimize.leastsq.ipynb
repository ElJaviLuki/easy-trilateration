{
 "cells": [
  {
   "cell_type": "code",
   "execution_count": 7,
   "metadata": {},
   "outputs": [
    {
     "data": {
      "text/plain": [
       "(array([150.        , 150.        , -26.40425484,   0.        ]),\n",
       " array([[ 2.50000000e-05, -2.32874690e-21,  7.95447941e-06,\n",
       "         -1.77280557e+00],\n",
       "        [-2.32874688e-21,  2.50000000e-05,  2.55137281e-05,\n",
       "         -5.68621564e+00],\n",
       "        [ 7.95447886e-06,  2.55137275e-05,  3.80295182e+11,\n",
       "         -8.47559608e+16],\n",
       "        [-1.77280557e+00, -5.68621552e+00, -8.47559608e+16,\n",
       "          1.88894659e+22]]),\n",
       " {'fvec': array([5416.33361562, 5416.33361562, 5416.33361562, 5416.33361562]),\n",
       "  'nfev': 18,\n",
       "  'fjac': array([[-2.00000000e+02,  1.17317473e-16, -1.64499011e-09,\n",
       "          -7.38097719e-15],\n",
       "         [-1.42108547e-13, -2.00000000e+02, -1.64499013e-09,\n",
       "          -7.38097724e-15],\n",
       "         [ 1.99260305e-06,  1.99260307e-06,  8.16170210e+01,\n",
       "           6.56246272e-08],\n",
       "         [ 8.94069671e-12,  8.94069676e-12,  3.66210937e-04,\n",
       "          -0.00000000e+00]]),\n",
       "  'ipvt': array([1, 2, 3, 4], dtype=int32),\n",
       "  'qtf': array([-2.64469416e-04, -2.64469415e-04, -1.08326672e+04,  0.00000000e+00])},\n",
       " 'The relative error between two consecutive iterates is at most 0.000000',\n",
       " 2)"
      ]
     },
     "execution_count": 7,
     "metadata": {},
     "output_type": "execute_result"
    }
   ],
   "source": [
    "import scipy\n",
    "from scipy.optimize import leastsq\n",
    "\n",
    "# Coordinates from SPS\n",
    "x1, y1, z1, dist_1 = ( 100.0, 100.0, -6.0 ,117.6)\n",
    "x2, y2, z2, dist_2 = ( 200.0, 100.0, -6.0 ,117.64)\n",
    "x3, y3, z3, dist_3 = ( 100.0, 200.0, -6.0 , 117.6)\n",
    "x4, y4, z4, dist_4 = ( 200.0, 200.0, -6.0 , 117.2)\n",
    "\n",
    "\n",
    "# Define a function that evaluates the equations\n",
    "def equations( guess ):\n",
    "    x, y, z, r = guess\n",
    "\n",
    "    return (\n",
    "        (x - x1)**2 + (y - y1)**2 + (z - z1)**2 - (dist_1 * r )**2,\n",
    "        (x - x2)**2 + (y - y2)**2 + (z - z2)**2 - (dist_2 * r )**2,\n",
    "        (x - x3)**2 + (y - y3)**2 + (z - z3)**2 - (dist_3 * r )**2,\n",
    "        (x - x4)**2 + (y - y4)**2 + (z - z4)**2 - (dist_4 * r )**2,\n",
    "    )\n",
    "\n",
    "\n",
    "# Make SciPy solve the system using an initial guess.\n",
    "# The initial guess affects which of the \"candidates\" SciPy finds.\n",
    "initial_guess = (150, 150, -100, 0)\n",
    "\n",
    "#result =leastsq( equations, initial_guess )\n",
    "\n",
    "results = leastsq( equations, initial_guess, full_output=True)\n",
    "\n",
    "results\n",
    "# Display the results.\n",
    "#print( \"(x, y, z) =\", result )\n"
   ]
  },
  {
   "cell_type": "code",
   "execution_count": 6,
   "metadata": {},
   "outputs": [
    {
     "data": {
      "text/plain": [
       "(array([2.50000000e-05+0.j        , 1.88894659e+22+0.j        ,\n",
       "        9.54117996e-05+0.00650667j, 9.54117996e-05-0.00650667j]),\n",
       " array([[ 1.00000000e+00+0.00000000e+00j, -9.38515455e-23+0.00000000e+00j,\n",
       "          2.48718110e-12-2.29836731e-10j,  2.48718110e-12+2.29836731e-10j],\n",
       "        [ 0.00000000e+00+0.00000000e+00j, -2.19638025e-16+0.00000000e+00j,\n",
       "          3.74143077e-06-3.45739101e-04j,  3.74143077e-06+3.45739101e-04j],\n",
       "        [ 0.00000000e+00+0.00000000e+00j, -4.48694320e-06+0.00000000e+00j,\n",
       "          9.99999940e-01+0.00000000e+00j,  9.99999940e-01-0.00000000e+00j],\n",
       "        [ 0.00000000e+00+0.00000000e+00j,  1.00000000e+00+0.00000000e+00j,\n",
       "          4.48694293e-06-1.72441008e-20j,  4.48694293e-06+1.72441008e-20j]]))"
      ]
     },
     "execution_count": 6,
     "metadata": {},
     "output_type": "execute_result"
    }
   ],
   "source": [
    "from scipy.linalg import eig\n",
    "\n",
    "scipy.linalg.eig(results[1])"
   ]
  },
  {
   "cell_type": "code",
   "execution_count": 3,
   "metadata": {},
   "outputs": [
    {
     "data": {
      "text/html": [
       "<div>\n",
       "<style scoped>\n",
       "    .dataframe tbody tr th:only-of-type {\n",
       "        vertical-align: middle;\n",
       "    }\n",
       "\n",
       "    .dataframe tbody tr th {\n",
       "        vertical-align: top;\n",
       "    }\n",
       "\n",
       "    .dataframe thead th {\n",
       "        text-align: right;\n",
       "    }\n",
       "</style>\n",
       "<table border=\"1\" class=\"dataframe\">\n",
       "  <thead>\n",
       "    <tr style=\"text-align: right;\">\n",
       "      <th></th>\n",
       "      <th>0</th>\n",
       "      <th>1</th>\n",
       "      <th>2</th>\n",
       "      <th>3</th>\n",
       "    </tr>\n",
       "  </thead>\n",
       "  <tbody>\n",
       "    <tr>\n",
       "      <th>0</th>\n",
       "      <td>2.500000e-05</td>\n",
       "      <td>-2.328747e-21</td>\n",
       "      <td>7.954479e-06</td>\n",
       "      <td>-1.772806e+00</td>\n",
       "    </tr>\n",
       "    <tr>\n",
       "      <th>1</th>\n",
       "      <td>-2.328747e-21</td>\n",
       "      <td>2.500000e-05</td>\n",
       "      <td>2.551373e-05</td>\n",
       "      <td>-5.686216e+00</td>\n",
       "    </tr>\n",
       "    <tr>\n",
       "      <th>2</th>\n",
       "      <td>7.954479e-06</td>\n",
       "      <td>2.551373e-05</td>\n",
       "      <td>3.802952e+11</td>\n",
       "      <td>-8.475596e+16</td>\n",
       "    </tr>\n",
       "    <tr>\n",
       "      <th>3</th>\n",
       "      <td>-1.772806e+00</td>\n",
       "      <td>-5.686216e+00</td>\n",
       "      <td>-8.475596e+16</td>\n",
       "      <td>1.888947e+22</td>\n",
       "    </tr>\n",
       "  </tbody>\n",
       "</table>\n",
       "</div>"
      ],
      "text/plain": [
       "              0             1             2             3\n",
       "0  2.500000e-05 -2.328747e-21  7.954479e-06 -1.772806e+00\n",
       "1 -2.328747e-21  2.500000e-05  2.551373e-05 -5.686216e+00\n",
       "2  7.954479e-06  2.551373e-05  3.802952e+11 -8.475596e+16\n",
       "3 -1.772806e+00 -5.686216e+00 -8.475596e+16  1.888947e+22"
      ]
     },
     "execution_count": 3,
     "metadata": {},
     "output_type": "execute_result"
    }
   ],
   "source": [
    "import pandas as pd\n",
    "\n",
    "\n",
    "cov_matrix = pd.DataFrame(results[1])\n",
    "cov_matrix"
   ]
  }
 ],
 "metadata": {
  "kernelspec": {
   "display_name": "Python 3",
   "language": "python",
   "name": "python3"
  },
  "language_info": {
   "codemirror_mode": {
    "name": "ipython",
    "version": 3
   },
   "file_extension": ".py",
   "mimetype": "text/x-python",
   "name": "python",
   "nbconvert_exporter": "python",
   "pygments_lexer": "ipython3",
   "version": "3.6.5"
  }
 },
 "nbformat": 4,
 "nbformat_minor": 2
}
